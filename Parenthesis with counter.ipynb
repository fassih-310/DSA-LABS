{
 "cells": [
  {
   "cell_type": "markdown",
   "metadata": {},
   "source": [
    "# Name  :  Muhammad Fassih ur rehman\n",
    "# reg_no:  200901054"
   ]
  },
  {
   "cell_type": "markdown",
   "metadata": {},
   "source": [
    "# Balance Parenthesis using counter"
   ]
  },
  {
   "cell_type": "code",
   "execution_count": 3,
   "metadata": {},
   "outputs": [
    {
     "name": "stdout",
     "output_type": "stream",
     "text": [
      "Enter any parenthesis]]]]\n",
      "Parenthesis are not balance\n"
     ]
    }
   ],
   "source": [
    "from collections import deque\n",
    "x= input(\"Enter any parenthesis\")\n",
    "if(x.count('(')!= x.count(')')):\n",
    "    print(\"Parenthesis are not balance\")\n",
    "elif(x.count('[')!= x.count(']')):\n",
    "    print(\"Parenthesis are not balance\")\n",
    "elif(x.count('{')!= x.count('}')):\n",
    "    print(\"Parenthesis are not balance\")\n",
    "else:\n",
    "    print(\"Parenthesis are balance\")"
   ]
  },
  {
   "cell_type": "code",
   "execution_count": null,
   "metadata": {},
   "outputs": [],
   "source": []
  }
 ],
 "metadata": {
  "kernelspec": {
   "display_name": "Python 3",
   "language": "python",
   "name": "python3"
  },
  "language_info": {
   "codemirror_mode": {
    "name": "ipython",
    "version": 3
   },
   "file_extension": ".py",
   "mimetype": "text/x-python",
   "name": "python",
   "nbconvert_exporter": "python",
   "pygments_lexer": "ipython3",
   "version": "3.7.4"
  }
 },
 "nbformat": 4,
 "nbformat_minor": 2
}

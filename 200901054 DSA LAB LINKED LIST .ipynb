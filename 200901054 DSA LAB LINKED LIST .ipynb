{
 "cells": [
  {
   "cell_type": "code",
   "execution_count": 136,
   "metadata": {},
   "outputs": [],
   "source": [
    "class node:\n",
    "    def __init__(self, data=None):\n",
    "        self.data = data\n",
    "        self.next = None\n",
    "    \n",
    "\n",
    "class linkedlist:\n",
    "    def __init__(self):\n",
    "        self.head = node()\n",
    "  \n",
    "    def append(self, data):\n",
    "        if self.head.data == None:\n",
    "            self.head.data = data\n",
    "        else:\n",
    "            new_node = node(data)\n",
    "            curr = self.head\n",
    "        while curr.next!=None:\n",
    "            curr = curr.next\n",
    "        curr.next = new_node\n",
    "\n",
    "    def add_before(self, data):\n",
    "        if self.head.data == None:\n",
    "            self.head.data = data\n",
    "        else:\n",
    "            new_node = node(data)\n",
    "            curr = self.head\n",
    "            self.head = new_node\n",
    "            self.head.next = curr\n",
    "  \n",
    "    \n",
    "    def display(self):\n",
    "        curr = self.head\n",
    "        dis = []\n",
    "        while curr.next!=None:\n",
    "            curr = curr.next\n",
    "            dis.append(curr.data)\n",
    "        print(dis)\n",
    "  \n",
    "    def delete(self):\n",
    "        curr = self.head\n",
    "        while curr.next.next:\n",
    "            scnd_last = curr.next\n",
    "            curr = curr.next\n",
    "        curr.next = None\n",
    "           \n",
    "    def insert(self , data , index):\n",
    "        if self.head.data == None:\n",
    "            self.head.data = data\n",
    "        else:\n",
    "            new_node = node(data)\n",
    "            curr = self.head\n",
    "        if index == 0:\n",
    "            new_node.next = self.head\n",
    "            self.head = new_node\n",
    "        count = 0\n",
    "        curr = self.head\n",
    "        while curr is not None:\n",
    "            if count == index-1:\n",
    "                new_node.next = curr.next\n",
    "                curr.next = new_node\n",
    "                break\n",
    "            print(\"curr:\" , curr)\n",
    "            curr = curr.next\n",
    "            count= count + 1\n",
    "\n",
    "    def length(self):\n",
    "        len = 0\n",
    "        curr = self.head\n",
    "        if self.head!= None:\n",
    "            len = 1\n",
    "        while curr.next!= None:\n",
    "            len = len +1\n",
    "            curr = curr.next\n",
    "        print(len)\n",
    "\n",
    "\n",
    " \n",
    "   \n"
   ]
  },
  {
   "cell_type": "code",
   "execution_count": 137,
   "metadata": {},
   "outputs": [],
   "source": [
    "mylist = linkedlist()"
   ]
  },
  {
   "cell_type": "code",
   "execution_count": 139,
   "metadata": {},
   "outputs": [],
   "source": [
    "mylist.append(8)\n",
    "mylist.append(7)\n",
    "mylist.append(9)\n",
    "mylist.append(5)"
   ]
  },
  {
   "cell_type": "code",
   "execution_count": 140,
   "metadata": {},
   "outputs": [
    {
     "name": "stdout",
     "output_type": "stream",
     "text": [
      "[8, 7, 9, 5]\n"
     ]
    }
   ],
   "source": [
    "mylist.display()"
   ]
  },
  {
   "cell_type": "code",
   "execution_count": 141,
   "metadata": {},
   "outputs": [],
   "source": [
    "mylist.delete()"
   ]
  },
  {
   "cell_type": "code",
   "execution_count": 142,
   "metadata": {},
   "outputs": [
    {
     "name": "stdout",
     "output_type": "stream",
     "text": [
      "[8, 7, 9]\n"
     ]
    }
   ],
   "source": [
    "mylist.display()"
   ]
  },
  {
   "cell_type": "code",
   "execution_count": 143,
   "metadata": {},
   "outputs": [],
   "source": [
    "mylist.add_before(8)"
   ]
  },
  {
   "cell_type": "code",
   "execution_count": 145,
   "metadata": {},
   "outputs": [
    {
     "name": "stdout",
     "output_type": "stream",
     "text": [
      "[8, 8, 7, 9]\n"
     ]
    }
   ],
   "source": [
    "mylist.display()"
   ]
  },
  {
   "cell_type": "code",
   "execution_count": 146,
   "metadata": {},
   "outputs": [
    {
     "name": "stdout",
     "output_type": "stream",
     "text": [
      "5\n"
     ]
    }
   ],
   "source": [
    "mylist.length()"
   ]
  },
  {
   "cell_type": "code",
   "execution_count": 147,
   "metadata": {},
   "outputs": [
    {
     "name": "stdout",
     "output_type": "stream",
     "text": [
      "curr: <__main__.node object at 0x000001EF4D9C6E48>\n",
      "curr: <__main__.node object at 0x000001EF4D9E8608>\n"
     ]
    }
   ],
   "source": [
    "mylist.insert(5,3)  #insert  5 at 3rd position"
   ]
  },
  {
   "cell_type": "code",
   "execution_count": 148,
   "metadata": {},
   "outputs": [
    {
     "name": "stdout",
     "output_type": "stream",
     "text": [
      "[8, 8, 5, 7, 9]\n"
     ]
    }
   ],
   "source": [
    "mylist.display()"
   ]
  },
  {
   "cell_type": "code",
   "execution_count": null,
   "metadata": {},
   "outputs": [],
   "source": []
  }
 ],
 "metadata": {
  "kernelspec": {
   "display_name": "Python 3",
   "language": "python",
   "name": "python3"
  },
  "language_info": {
   "codemirror_mode": {
    "name": "ipython",
    "version": 3
   },
   "file_extension": ".py",
   "mimetype": "text/x-python",
   "name": "python",
   "nbconvert_exporter": "python",
   "pygments_lexer": "ipython3",
   "version": "3.7.4"
  }
 },
 "nbformat": 4,
 "nbformat_minor": 2
}

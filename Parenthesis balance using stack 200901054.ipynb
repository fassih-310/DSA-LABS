{
 "cells": [
  {
   "cell_type": "markdown",
   "metadata": {},
   "source": [
    "# Name : Muhammad Fassih ur rehman\n",
    "# Reg_no : 200901054\n",
    "\n",
    "# Parenthesis balance using stack"
   ]
  },
  {
   "cell_type": "code",
   "execution_count": 4,
   "metadata": {},
   "outputs": [
    {
     "name": "stdout",
     "output_type": "stream",
     "text": [
      "Enter Any parenthesis : {{}}\n",
      "{{}} - Parenthesis are Balanced\n"
     ]
    }
   ],
   "source": [
    "from collections import deque\n",
    "string = input(\"Enter Any parenthesis : \")\n",
    "def func_to_check(str):\n",
    "    stack = deque()\n",
    "    for i in str:\n",
    "        if(i == '(' or i == '[' or i == '{'):\n",
    "            stack.append(i)\n",
    "        elif(i == ')' or i == ']' or i == '}'):\n",
    "           \n",
    "            if (len(stack) != 0):\n",
    "                if ((i == ')'and stack[-1]=='(') or (i == ']'and stack[-1]=='[') or (i =='}'and stack[-1]=='{')):\n",
    "                    stack.pop()\n",
    "            else:\n",
    "                return \"Parenthesis are Unbalanced\"\n",
    "    if len(stack) == 0:\n",
    "        return \"Parenthesis are Balanced\"\n",
    "    else:\n",
    "        return \"Parenthesis are Unbalanced\"\n",
    "print(string,\"-\", func_to_check(string))"
   ]
  },
  {
   "cell_type": "code",
   "execution_count": null,
   "metadata": {},
   "outputs": [],
   "source": []
  }
 ],
 "metadata": {
  "kernelspec": {
   "display_name": "Python 3",
   "language": "python",
   "name": "python3"
  },
  "language_info": {
   "codemirror_mode": {
    "name": "ipython",
    "version": 3
   },
   "file_extension": ".py",
   "mimetype": "text/x-python",
   "name": "python",
   "nbconvert_exporter": "python",
   "pygments_lexer": "ipython3",
   "version": "3.7.4"
  }
 },
 "nbformat": 4,
 "nbformat_minor": 2
}

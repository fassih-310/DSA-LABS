{
 "cells": [
  {
   "cell_type": "markdown",
   "metadata": {},
   "source": [
    "# Name : Muhammad Fassih ur rehman\n",
    "## Reg no : 200901054\n",
    "## Queue session  \n",
    "## Queue Implementation through Numpy"
   ]
  },
  {
   "cell_type": "code",
   "execution_count": 2,
   "metadata": {},
   "outputs": [],
   "source": [
    "import numpy as np\n",
    "class queue:\n",
    "    \n",
    "    def __init__ (self , s):\n",
    "        \n",
    "        self.s = s\n",
    "        self.elements = np.empty([self.s])\n",
    "        self.front=0\n",
    "        self.rear = 0\n",
    "        self.size = s\n",
    "    def queue_Enqueue(self,data):\n",
    "        \n",
    "        if (self.size == self.rear):\n",
    "            \n",
    "            return \"Queue is full (Overflow)\"\n",
    "        else:\n",
    "            self.elements[self.rear] = data\n",
    "            self.rear = self.rear +1\n",
    "\n",
    "    def queue_dequeue(self):\n",
    "        if (self.front == self.rear):\n",
    "            return \"Queue is Empty (Underflow)\" \n",
    "        else:\n",
    "            self.front = self.front + 1\n",
    "  \n",
    "    def queue_display(self):\n",
    "        if(self.front == self.rear):\n",
    "            return \"Queue is empty underflow \"\n",
    "        for x in self.elements:\n",
    "            print(x)\n",
    "\n",
    "    def queue_Front(self):\n",
    "        if(self.front == self.rear):\n",
    "            print(\"Queue is Empty underflow\")\n",
    "        print(\"Front Element is:\",\n",
    "          self.queue[self.front])\n"
   ]
  },
  {
   "cell_type": "code",
   "execution_count": 3,
   "metadata": {},
   "outputs": [],
   "source": [
    "q = queue(4)"
   ]
  },
  {
   "cell_type": "code",
   "execution_count": 4,
   "metadata": {},
   "outputs": [
    {
     "data": {
      "text/plain": [
       "'Queue is Empty (Underflow)'"
      ]
     },
     "execution_count": 4,
     "metadata": {},
     "output_type": "execute_result"
    }
   ],
   "source": [
    "q.queue_dequeue()"
   ]
  },
  {
   "cell_type": "code",
   "execution_count": 5,
   "metadata": {},
   "outputs": [],
   "source": [
    "q.queue_Enqueue(23)\n",
    "q.queue_Enqueue(2)\n",
    "q.queue_Enqueue(123)"
   ]
  },
  {
   "cell_type": "code",
   "execution_count": 7,
   "metadata": {},
   "outputs": [
    {
     "data": {
      "text/plain": [
       "'Queue is full (Overflow)'"
      ]
     },
     "execution_count": 7,
     "metadata": {},
     "output_type": "execute_result"
    }
   ],
   "source": [
    "q.queue_Enqueue(23)\n",
    "q.queue_Enqueue(2)\n",
    "q.queue_Enqueue(123)\n",
    "q.queue_Enqueue(5)\n"
   ]
  },
  {
   "cell_type": "code",
   "execution_count": null,
   "metadata": {},
   "outputs": [],
   "source": []
  }
 ],
 "metadata": {
  "kernelspec": {
   "display_name": "Python 3",
   "language": "python",
   "name": "python3"
  },
  "language_info": {
   "codemirror_mode": {
    "name": "ipython",
    "version": 3
   },
   "file_extension": ".py",
   "mimetype": "text/x-python",
   "name": "python",
   "nbconvert_exporter": "python",
   "pygments_lexer": "ipython3",
   "version": "3.7.4"
  }
 },
 "nbformat": 4,
 "nbformat_minor": 2
}

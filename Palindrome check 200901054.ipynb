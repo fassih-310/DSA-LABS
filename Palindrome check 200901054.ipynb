{
 "cells": [
  {
   "cell_type": "markdown",
   "metadata": {},
   "source": [
    "# Name : Muhammad Fassih ur rehman\n",
    "# Reg_no : 200901054\n",
    "\n",
    "# Task Palindrome check\n"
   ]
  },
  {
   "cell_type": "code",
   "execution_count": 4,
   "metadata": {},
   "outputs": [
    {
     "name": "stdout",
     "output_type": "stream",
     "text": [
      "Enter any string: speed\n",
      "speed is not Palindrome!\n"
     ]
    }
   ],
   "source": [
    "from collections import deque\n",
    "inp = input('Enter any string: ')\n",
    "stk = deque()\n",
    "for character in inp:\n",
    "    stk.append(character)\n",
    "i = 0\n",
    "r = ''\n",
    "while (i < len(inp)):\n",
    "    if inp[i].upper() == stk.pop().upper():\n",
    "        r = \"Palindrome!\"\n",
    "    else:\n",
    "        r = \"not Palindrome!\"\n",
    "        break\n",
    "    i = i + 1\n",
    "print(f'{inp} is {r}')"
   ]
  },
  {
   "cell_type": "code",
   "execution_count": null,
   "metadata": {},
   "outputs": [],
   "source": []
  }
 ],
 "metadata": {
  "kernelspec": {
   "display_name": "Python 3",
   "language": "python",
   "name": "python3"
  },
  "language_info": {
   "codemirror_mode": {
    "name": "ipython",
    "version": 3
   },
   "file_extension": ".py",
   "mimetype": "text/x-python",
   "name": "python",
   "nbconvert_exporter": "python",
   "pygments_lexer": "ipython3",
   "version": "3.7.4"
  }
 },
 "nbformat": 4,
 "nbformat_minor": 2
}
